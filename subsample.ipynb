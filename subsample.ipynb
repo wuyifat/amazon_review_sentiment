{
 "cells": [
  {
   "cell_type": "code",
   "execution_count": 148,
   "metadata": {
    "collapsed": true
   },
   "outputs": [],
   "source": [
    "import numpy as np\n",
    "import pandas as pd"
   ]
  },
  {
   "cell_type": "code",
   "execution_count": 149,
   "metadata": {
    "collapsed": false
   },
   "outputs": [],
   "source": [
    "beauty = pd.read_csv(\"../data/amazon/beauty.csv\")"
   ]
  },
  {
   "cell_type": "code",
   "execution_count": 150,
   "metadata": {
    "collapsed": true
   },
   "outputs": [],
   "source": [
    "nproduct = 100\n",
    "nstar = 5\n",
    "nreview = 10"
   ]
  },
  {
   "cell_type": "code",
   "execution_count": 151,
   "metadata": {
    "collapsed": false
   },
   "outputs": [
    {
     "data": {
      "text/html": [
       "<div>\n",
       "<table border=\"1\" class=\"dataframe\">\n",
       "  <thead>\n",
       "    <tr style=\"text-align: right;\">\n",
       "      <th></th>\n",
       "      <th>reviewerID</th>\n",
       "      <th>asin</th>\n",
       "      <th>reviewerName</th>\n",
       "      <th>helpful</th>\n",
       "      <th>reviewText</th>\n",
       "      <th>overall</th>\n",
       "      <th>summary</th>\n",
       "      <th>unixReviewTime</th>\n",
       "      <th>reviewTime</th>\n",
       "    </tr>\n",
       "  </thead>\n",
       "  <tbody>\n",
       "    <tr>\n",
       "      <th>0</th>\n",
       "      <td>A39HTATAQ9V7YF</td>\n",
       "      <td>0205616461</td>\n",
       "      <td>cheryl roberts</td>\n",
       "      <td>[0, 0]</td>\n",
       "      <td>i do love this moisturizer and would recommend...</td>\n",
       "      <td>5.0</td>\n",
       "      <td>bio-active anti-aging serum</td>\n",
       "      <td>1369699200</td>\n",
       "      <td>05 28, 2013</td>\n",
       "    </tr>\n",
       "    <tr>\n",
       "      <th>1</th>\n",
       "      <td>A3JM6GV9MNOF9X</td>\n",
       "      <td>0558925278</td>\n",
       "      <td>Patty</td>\n",
       "      <td>[0, 1]</td>\n",
       "      <td>I received this product before the deadline.I ...</td>\n",
       "      <td>3.0</td>\n",
       "      <td>This product is ok, I'm use Baby Kabuki in moment</td>\n",
       "      <td>1355443200</td>\n",
       "      <td>12 14, 2012</td>\n",
       "    </tr>\n",
       "    <tr>\n",
       "      <th>2</th>\n",
       "      <td>A1Z513UWSAAO0F</td>\n",
       "      <td>0558925278</td>\n",
       "      <td>Renita M</td>\n",
       "      <td>[0, 0]</td>\n",
       "      <td>I love this set. Great buy for the price. I do...</td>\n",
       "      <td>5.0</td>\n",
       "      <td>I love this set</td>\n",
       "      <td>1404691200</td>\n",
       "      <td>07 7, 2014</td>\n",
       "    </tr>\n",
       "    <tr>\n",
       "      <th>3</th>\n",
       "      <td>A1WMRR494NWEWV</td>\n",
       "      <td>0733001998</td>\n",
       "      <td>Amazon Shopper</td>\n",
       "      <td>[0, 0]</td>\n",
       "      <td>A nice moisturizer, all natural ingredients an...</td>\n",
       "      <td>4.0</td>\n",
       "      <td>Nice Moisturizer</td>\n",
       "      <td>1382572800</td>\n",
       "      <td>10 24, 2013</td>\n",
       "    </tr>\n",
       "    <tr>\n",
       "      <th>4</th>\n",
       "      <td>A3IAAVS479H7M7</td>\n",
       "      <td>0737104473</td>\n",
       "      <td>MAC Lover</td>\n",
       "      <td>[2, 2]</td>\n",
       "      <td>Please research the MAC Hello Kitty collection...</td>\n",
       "      <td>1.0</td>\n",
       "      <td>Fake MAC</td>\n",
       "      <td>1274227200</td>\n",
       "      <td>05 19, 2010</td>\n",
       "    </tr>\n",
       "  </tbody>\n",
       "</table>\n",
       "</div>"
      ],
      "text/plain": [
       "       reviewerID        asin    reviewerName helpful  \\\n",
       "0  A39HTATAQ9V7YF  0205616461  cheryl roberts  [0, 0]   \n",
       "1  A3JM6GV9MNOF9X  0558925278           Patty  [0, 1]   \n",
       "2  A1Z513UWSAAO0F  0558925278        Renita M  [0, 0]   \n",
       "3  A1WMRR494NWEWV  0733001998  Amazon Shopper  [0, 0]   \n",
       "4  A3IAAVS479H7M7  0737104473       MAC Lover  [2, 2]   \n",
       "\n",
       "                                          reviewText  overall  \\\n",
       "0  i do love this moisturizer and would recommend...      5.0   \n",
       "1  I received this product before the deadline.I ...      3.0   \n",
       "2  I love this set. Great buy for the price. I do...      5.0   \n",
       "3  A nice moisturizer, all natural ingredients an...      4.0   \n",
       "4  Please research the MAC Hello Kitty collection...      1.0   \n",
       "\n",
       "                                             summary  unixReviewTime  \\\n",
       "0                        bio-active anti-aging serum      1369699200   \n",
       "1  This product is ok, I'm use Baby Kabuki in moment      1355443200   \n",
       "2                                    I love this set      1404691200   \n",
       "3                                   Nice Moisturizer      1382572800   \n",
       "4                                           Fake MAC      1274227200   \n",
       "\n",
       "    reviewTime  \n",
       "0  05 28, 2013  \n",
       "1  12 14, 2012  \n",
       "2   07 7, 2014  \n",
       "3  10 24, 2013  \n",
       "4  05 19, 2010  "
      ]
     },
     "execution_count": 151,
     "metadata": {},
     "output_type": "execute_result"
    }
   ],
   "source": [
    "beauty.head()"
   ]
  },
  {
   "cell_type": "code",
   "execution_count": 152,
   "metadata": {
    "collapsed": true
   },
   "outputs": [],
   "source": [
    "beauty_groups = beauty.groupby(\"asin\")"
   ]
  },
  {
   "cell_type": "code",
   "execution_count": 153,
   "metadata": {
    "collapsed": false
   },
   "outputs": [
    {
     "name": "stdout",
     "output_type": "stream",
     "text": [
      "(2023070, 9)\n",
      "249274\n"
     ]
    }
   ],
   "source": [
    "print beauty.shape\n",
    "print len(beauty_groups)"
   ]
  },
  {
   "cell_type": "code",
   "execution_count": 154,
   "metadata": {
    "collapsed": false
   },
   "outputs": [],
   "source": [
    "beauty_group_count = beauty_groups.size()\n",
    "beauty_group_count.sort_values(inplace=True, ascending=False)\n",
    "# print beauty_group_count[:nproduct]"
   ]
  },
  {
   "cell_type": "code",
   "execution_count": 155,
   "metadata": {
    "collapsed": false
   },
   "outputs": [
    {
     "name": "stdout",
     "output_type": "stream",
     "text": [
      "100\n"
     ]
    }
   ],
   "source": [
    "beauty_top10 = beauty_group_count[:nproduct].to_dict().items()\n",
    "ids = [t[0] for t in beauty_top10]\n",
    "print len(ids)"
   ]
  },
  {
   "cell_type": "code",
   "execution_count": 156,
   "metadata": {
    "collapsed": false
   },
   "outputs": [
    {
     "name": "stdout",
     "output_type": "stream",
     "text": [
      "(5000, 9)\n"
     ]
    }
   ],
   "source": [
    "col = [c for c in beauty.columns]\n",
    "df = pd.DataFrame(columns=col)\n",
    "\n",
    "for i in ids:\n",
    "    product = beauty.loc[beauty[\"asin\"] == i]\n",
    "    product_star_group = product.groupby(\"overall\")\n",
    "    stars = product[\"overall\"].unique()\n",
    "    for star in stars:\n",
    "        group = product_star_group.get_group(star)\n",
    "        sampled_df = group.sample(n=nreview, random_state=111, axis=0, replace=True)\n",
    "#         print group\n",
    "        df = pd.concat([df, sampled_df])\n",
    "\n",
    "#     df = pd.concat([df, product])\n",
    "print df.shape"
   ]
  },
  {
   "cell_type": "code",
   "execution_count": 157,
   "metadata": {
    "collapsed": false
   },
   "outputs": [],
   "source": [
    "# df.head()"
   ]
  },
  {
   "cell_type": "code",
   "execution_count": 158,
   "metadata": {
    "collapsed": false
   },
   "outputs": [],
   "source": [
    "df.to_csv(\"../data/beauty5k.csv\")"
   ]
  },
  {
   "cell_type": "code",
   "execution_count": 159,
   "metadata": {
    "collapsed": false
   },
   "outputs": [
    {
     "data": {
      "text/plain": [
       "overall\n",
       "1.0    1000\n",
       "2.0    1000\n",
       "3.0    1000\n",
       "4.0    1000\n",
       "5.0    1000\n",
       "dtype: int64"
      ]
     },
     "execution_count": 159,
     "metadata": {},
     "output_type": "execute_result"
    }
   ],
   "source": [
    "df.groupby(\"overall\").size()"
   ]
  },
  {
   "cell_type": "code",
   "execution_count": null,
   "metadata": {
    "collapsed": true
   },
   "outputs": [],
   "source": []
  }
 ],
 "metadata": {
  "kernelspec": {
   "display_name": "Python 2",
   "language": "python",
   "name": "python2"
  },
  "language_info": {
   "codemirror_mode": {
    "name": "ipython",
    "version": 2
   },
   "file_extension": ".py",
   "mimetype": "text/x-python",
   "name": "python",
   "nbconvert_exporter": "python",
   "pygments_lexer": "ipython2",
   "version": "2.7.12"
  }
 },
 "nbformat": 4,
 "nbformat_minor": 2
}
